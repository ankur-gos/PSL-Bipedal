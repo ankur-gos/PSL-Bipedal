{
 "cells": [
  {
   "cell_type": "code",
   "execution_count": 30,
   "metadata": {},
   "outputs": [],
   "source": [
    "import re\n",
    "import sys"
   ]
  },
  {
   "cell_type": "markdown",
   "metadata": {},
   "source": [
    "# Export top 30 trip modes to geosheets"
   ]
  },
  {
   "cell_type": "code",
   "execution_count": 31,
   "metadata": {},
   "outputs": [],
   "source": [
    "colors = ((5, 'red'), (15, 'blue'), (30, 'black'))\n",
    "\n",
    "with open('results/trips_modes.txt', 'r') as ttf, open('modes_culler_geosheets.csv', 'w+') as outf:\n",
    "    outf.write('Location\\tType\\tMode\\tColor\\tConfidence\\n')\n",
    "    count, color_count = 0, 1\n",
    "    current_color = colors[0]\n",
    "    for line in ttf:\n",
    "        found = re.search(r'.*\\'(.*) (.*)\\'.*\\'(.*) (.*)\\'.*\\'(.*)\\'.*\\[(.*)\\].*', line, re.M|re.I)\n",
    "        if found is not None:\n",
    "            if count == 30:\n",
    "                break\n",
    "            if count == current_color[0]:\n",
    "                current_color = colors[color_count]\n",
    "                color_count += 1\n",
    "            outf.write('%s,%s | %s,%s\\tline\\t%s\\t%s\\t%s\\n' % (found.group(2), found.group(1), found.group(4), found.group(3), found.group(5), current_color[1], found.group(6)))\n",
    "            count += 1"
   ]
  },
  {
   "cell_type": "markdown",
   "metadata": {},
   "source": [
    "# Export top 30 trip times to geosheets"
   ]
  },
  {
   "cell_type": "code",
   "execution_count": 32,
   "metadata": {},
   "outputs": [],
   "source": [
    "with open('results/trips_times.txt', 'r') as ttf, open('times_culler_geosheets.csv', 'w+') as outf:\n",
    "    outf.write('Location\\tType\\tTime\\tColor\\tConfidence\\n')\n",
    "    count, color_count = 0, 1\n",
    "    current_color = colors[0]\n",
    "    for line in ttf:\n",
    "        found = re.search(r'.*\\'(.*) (.*)\\'.*\\'(.*) (.*)\\'.*\\'(.*)\\'.*\\'.*\\'.*\\[(.*)\\].*', line, re.M|re.I)\n",
    "        if found is not None:\n",
    "            if count == 30:\n",
    "                break\n",
    "            if count == current_color[0]:\n",
    "                current_color = colors[color_count]\n",
    "                color_count += 1\n",
    "            outf.write('%s,%s | %s,%s\\tline\\t%s\\t%s\\t%s\\n' % (found.group(2), found.group(1), found.group(4), found.group(3), found.group(5), current_color[1], found.group(6)))\n",
    "            count += 1"
   ]
  },
  {
   "cell_type": "code",
   "execution_count": null,
   "metadata": {
    "collapsed": true
   },
   "outputs": [],
   "source": []
  }
 ],
 "metadata": {
  "kernelspec": {
   "display_name": "Python 2",
   "language": "python",
   "name": "python2"
  },
  "language_info": {
   "codemirror_mode": {
    "name": "ipython",
    "version": 2
   },
   "file_extension": ".py",
   "mimetype": "text/x-python",
   "name": "python",
   "nbconvert_exporter": "python",
   "pygments_lexer": "ipython2",
   "version": "2.7.13"
  }
 },
 "nbformat": 4,
 "nbformat_minor": 2
}
